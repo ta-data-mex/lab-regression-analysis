{
 "cells": [
  {
   "cell_type": "markdown",
   "metadata": {},
   "source": [
    "# Lab: Regression Analysis"
   ]
  },
  {
   "cell_type": "markdown",
   "metadata": {},
   "source": [
    "### Before you start:\n",
    "\n",
    "* Read the README.md file\n",
    "* Comment as much as you can and use the resources (README.md file) \n",
    "\n",
    "Happy learning!"
   ]
  },
  {
   "cell_type": "markdown",
   "metadata": {},
   "source": [
    "## Challenge 1\n",
    "I work at a coding bootcamp, and I have developed a theory that the younger my students are, the more often they are late to class. In order to test my hypothesis, I have collected some data in the following table:\n",
    "\n",
    "| StudentID | Age | Tardies |\n",
    "|--------|-----|------------|\n",
    "| 1      | 17  | 10         |\n",
    "| 2      | 51  | 1          |\n",
    "| 3      | 27  | 5          |\n",
    "| 4      | 21  | 9         |\n",
    "| 5      | 36  |  4         |\n",
    "| 6      | 48  |  2         |\n",
    "| 7      | 19  |  9         |\n",
    "| 8      | 26  | 6          |\n",
    "| 9      | 54  |  0         |\n",
    "| 10     | 30  |  3         |"
   ]
  },
  {
   "cell_type": "markdown",
   "metadata": {},
   "source": [
    "Use this command to create a dataframe with the data provided in the table. \n",
    "~~~~\n",
    "student_data = pd.DataFrame({'X': [x_values], 'Y': [y_values]})\n",
    "~~~~"
   ]
  },
  {
   "cell_type": "code",
   "execution_count": 11,
   "metadata": {},
   "outputs": [],
   "source": [
    "# Your code here. \n",
    "import pandas as pd\n",
    "import numpy as np\n",
    "\n",
    "import seaborn as sns\n",
    "\n",
    "from scipy import stats\n",
    "\n",
    "from statsmodels.formula.api import ols\n",
    "import statsmodels.api as sm\n"
   ]
  },
  {
   "cell_type": "code",
   "execution_count": 3,
   "metadata": {},
   "outputs": [],
   "source": [
    "student_data = pd.DataFrame({'X': [17, 51, 27,21, 36, 48, 19, 26, 54, 30],\n",
    "                             'Y': [10, 1, 5, 9, 4, 2, 9, 6, 0, 3]})"
   ]
  },
  {
   "cell_type": "markdown",
   "metadata": {},
   "source": [
    "Draw a dispersion diagram (scatter plot) for the data."
   ]
  },
  {
   "cell_type": "code",
   "execution_count": 6,
   "metadata": {},
   "outputs": [
    {
     "name": "stderr",
     "output_type": "stream",
     "text": [
      "/usr/local/Cellar/python@3.9/3.9.7_1/Frameworks/Python.framework/Versions/3.9/lib/python3.9/site-packages/seaborn/_decorators.py:36: FutureWarning: Pass the following variables as keyword args: x, y. From version 0.12, the only valid positional argument will be `data`, and passing other arguments without an explicit keyword will result in an error or misinterpretation.\n",
      "  warnings.warn(\n"
     ]
    },
    {
     "data": {
      "image/png": "[encoded data removed]",
      "text/plain": [
       "<Figure size 432x288 with 1 Axes>"
      ]
     },
     "metadata": {
      "needs_background": "light"
     },
     "output_type": "display_data"
    }
   ],
   "source": [
    "sns.scatterplot(student_data['X'], student_data['Y']);"
   ]
  },
  {
   "cell_type": "markdown",
   "metadata": {},
   "source": [
    "Do you see a trend? Can you make any hypotheses about the relationship between age and number of tardies?"
   ]
  },
  {
   "cell_type": "code",
   "execution_count": 2,
   "metadata": {},
   "outputs": [],
   "source": [
    "# Your response here. \n"
   ]
  },
  {
   "cell_type": "markdown",
   "metadata": {},
   "source": [
    "Calculate the covariance and correlation of the variables in your plot. What is the difference between these two measures? Compare their values. What do they tell you in this case? Add your responses as comments after your code."
   ]
  },
  {
   "cell_type": "code",
   "execution_count": 9,
   "metadata": {
    "scrolled": true
   },
   "outputs": [
    {
     "data": {
      "text/html": [
       "<div>\n",
       "<style scoped>\n",
       "    .dataframe tbody tr th:only-of-type {\n",
       "        vertical-align: middle;\n",
       "    }\n",
       "\n",
       "    .dataframe tbody tr th {\n",
       "        vertical-align: top;\n",
       "    }\n",
       "\n",
       "    .dataframe thead th {\n",
       "        text-align: right;\n",
       "    }\n",
       "</style>\n",
       "<table border=\"1\" class=\"dataframe\">\n",
       "  <thead>\n",
       "    <tr style=\"text-align: right;\">\n",
       "      <th></th>\n",
       "      <th>X</th>\n",
       "      <th>Y</th>\n",
       "    </tr>\n",
       "  </thead>\n",
       "  <tbody>\n",
       "    <tr>\n",
       "      <th>X</th>\n",
       "      <td>187.655556</td>\n",
       "      <td>-45.566667</td>\n",
       "    </tr>\n",
       "    <tr>\n",
       "      <th>Y</th>\n",
       "      <td>-45.566667</td>\n",
       "      <td>12.544444</td>\n",
       "    </tr>\n",
       "  </tbody>\n",
       "</table>\n",
       "</div>"
      ],
      "text/plain": [
       "            X          Y\n",
       "X  187.655556 -45.566667\n",
       "Y  -45.566667  12.544444"
      ]
     },
     "execution_count": 9,
     "metadata": {},
     "output_type": "execute_result"
    }
   ],
   "source": [
    "# Your response here.\n",
    "\n",
    "#COVARIANZA\n",
    "student_data.cov()"
   ]
  },
  {
   "cell_type": "code",
   "execution_count": 10,
   "metadata": {},
   "outputs": [
    {
     "data": {
      "text/html": [
       "<div>\n",
       "<style scoped>\n",
       "    .dataframe tbody tr th:only-of-type {\n",
       "        vertical-align: middle;\n",
       "    }\n",
       "\n",
       "    .dataframe tbody tr th {\n",
       "        vertical-align: top;\n",
       "    }\n",
       "\n",
       "    .dataframe thead th {\n",
       "        text-align: right;\n",
       "    }\n",
       "</style>\n",
       "<table border=\"1\" class=\"dataframe\">\n",
       "  <thead>\n",
       "    <tr style=\"text-align: right;\">\n",
       "      <th></th>\n",
       "      <th>X</th>\n",
       "      <th>Y</th>\n",
       "    </tr>\n",
       "  </thead>\n",
       "  <tbody>\n",
       "    <tr>\n",
       "      <th>X</th>\n",
       "      <td>1.000000</td>\n",
       "      <td>-0.939163</td>\n",
       "    </tr>\n",
       "    <tr>\n",
       "      <th>Y</th>\n",
       "      <td>-0.939163</td>\n",
       "      <td>1.000000</td>\n",
       "    </tr>\n",
       "  </tbody>\n",
       "</table>\n",
       "</div>"
      ],
      "text/plain": [
       "          X         Y\n",
       "X  1.000000 -0.939163\n",
       "Y -0.939163  1.000000"
      ]
     },
     "execution_count": 10,
     "metadata": {},
     "output_type": "execute_result"
    }
   ],
   "source": [
    "# CORRELACIÓN\n",
    "\n",
    "student_data.corr()"
   ]
  },
  {
   "cell_type": "markdown",
   "metadata": {},
   "source": [
    "Build a regression model for this data. What will be your outcome variable? What type of regression are you using? Add your responses as comments after your code."
   ]
  },
  {
   "cell_type": "code",
   "execution_count": 14,
   "metadata": {},
   "outputs": [
    {
     "name": "stdout",
     "output_type": "stream",
     "text": [
      "                            OLS Regression Results                            \n",
      "==============================================================================\n",
      "Dep. Variable:      student_data[\"X\"]   R-squared:                       0.999\n",
      "Model:                            OLS   Adj. R-squared:                  0.989\n",
      "Method:                 Least Squares   F-statistic:                     105.4\n",
      "Date:                Tue, 01 Mar 2022   Prob (F-statistic):             0.0752\n",
      "Time:                        23:33:26   Log-Likelihood:                -6.1422\n",
      "No. Observations:                  10   AIC:                             30.28\n",
      "Df Residuals:                       1   BIC:                             33.01\n",
      "Df Model:                           8                                         \n",
      "Covariance Type:            nonrobust                                         \n",
      "==============================================================================================\n",
      "                                 coef    std err          t      P>|t|      [0.025      0.975]\n",
      "----------------------------------------------------------------------------------------------\n",
      "Intercept                     54.0000      1.414     38.184      0.017      36.031      71.969\n",
      "C(student_data[\"Y\"])[T.1]     -3.0000      2.000     -1.500      0.374     -28.412      22.412\n",
      "C(student_data[\"Y\"])[T.2]     -6.0000      2.000     -3.000      0.205     -31.412      19.412\n",
      "C(student_data[\"Y\"])[T.3]    -24.0000      2.000    -12.000      0.053     -49.412       1.412\n",
      "C(student_data[\"Y\"])[T.4]    -18.0000      2.000     -9.000      0.070     -43.412       7.412\n",
      "C(student_data[\"Y\"])[T.5]    -27.0000      2.000    -13.500      0.047     -52.412      -1.588\n",
      "C(student_data[\"Y\"])[T.6]    -28.0000      2.000    -14.000      0.045     -53.412      -2.588\n",
      "C(student_data[\"Y\"])[T.9]    -34.0000      1.732    -19.630      0.032     -56.008     -11.992\n",
      "C(student_data[\"Y\"])[T.10]   -37.0000      2.000    -18.500      0.034     -62.412     -11.588\n",
      "==============================================================================\n",
      "Omnibus:                        5.629   Durbin-Watson:                   2.000\n",
      "Prob(Omnibus):                  0.060   Jarque-Bera (JB):                1.667\n",
      "Skew:                          -0.000   Prob(JB):                        0.435\n",
      "Kurtosis:                       5.000   Cond. No.                         10.5\n",
      "==============================================================================\n",
      "\n",
      "Notes:\n",
      "[1] Standard Errors assume that the covariance matrix of the errors is correctly specified.\n"
     ]
    },
    {
     "name": "stderr",
     "output_type": "stream",
     "text": [
      "/usr/local/Cellar/python@3.9/3.9.7_1/Frameworks/Python.framework/Versions/3.9/lib/python3.9/site-packages/scipy/stats/stats.py:1541: UserWarning: kurtosistest only valid for n>=20 ... continuing anyway, n=10\n",
      "  warnings.warn(\"kurtosistest only valid for n>=20 ... continuing \"\n"
     ]
    }
   ],
   "source": [
    "# Your response here.\n",
    "\n",
    "model = ols('student_data[\"X\"] ~ C(student_data[\"Y\"])', data=student_data).fit()\n",
    "print(model.summary())"
   ]
  },
  {
   "cell_type": "markdown",
   "metadata": {},
   "source": [
    "Plot your regression model on your scatter plot."
   ]
  },
  {
   "cell_type": "code",
   "execution_count": 16,
   "metadata": {},
   "outputs": [
    {
     "name": "stderr",
     "output_type": "stream",
     "text": [
      "/usr/local/Cellar/python@3.9/3.9.7_1/Frameworks/Python.framework/Versions/3.9/lib/python3.9/site-packages/seaborn/_decorators.py:36: FutureWarning: Pass the following variables as keyword args: x, y, data. From version 0.12, the only valid positional argument will be `data`, and passing other arguments without an explicit keyword will result in an error or misinterpretation.\n",
      "  warnings.warn(\n"
     ]
    },
    {
     "data": {
      "image/png": "[encoded data removed]",
      "text/plain": [
       "<Figure size 432x288 with 1 Axes>"
      ]
     },
     "metadata": {
      "needs_background": "light"
     },
     "output_type": "display_data"
    }
   ],
   "source": [
    "# Your code here.\n",
    "sns.regplot(student_data['X'], student_data['Y'], model);"
   ]
  },
  {
   "cell_type": "markdown",
   "metadata": {},
   "source": [
    "Interpret the results of your model. What can conclusions can you draw from your model and how confident in these conclusions are you? Can we say that age is a good predictor of tardiness? Add your responses as comments after your code."
   ]
  },
  {
   "cell_type": "code",
   "execution_count": 3,
   "metadata": {},
   "outputs": [],
   "source": [
    "# Your response here. \n",
    "# a mayor edad, los retardos son mas probables"
   ]
  },
  {
   "cell_type": "markdown",
   "metadata": {},
   "source": [
    "## Challenge 2\n",
    "For the second part of this lab, we will use the vehicles.csv data set. You can find a copy of the dataset in the git hub folder. This dataset includes variables related to vehicle characteristics, including the model, make, and energy efficiency standards, as well as each car's CO2 emissions. As discussed in class the goal of this exercise is to predict vehicles' CO2 emissions based on several independent variables. "
   ]
  },
  {
   "cell_type": "code",
   "execution_count": 3,
   "metadata": {},
   "outputs": [],
   "source": [
    "# Import any libraries you may need & the data"
   ]
  },
  {
   "cell_type": "markdown",
   "metadata": {},
   "source": [
    "Let's use the following variables for our analysis: Year, Cylinders, Fuel Barrels/Year, Combined MPG, and Fuel Cost/Year. We will use 'CO2 Emission Grams/Mile' as our outcome variable. \n",
    "\n",
    "Calculate the correlations between each of these variables and the outcome. Which variable do you think will be the most important in determining CO2 emissions? Which provides the least amount of helpful information for determining CO2 emissions? Add your responses as comments after your code."
   ]
  },
  {
   "cell_type": "code",
   "execution_count": 17,
   "metadata": {},
   "outputs": [],
   "source": [
    "# Your response here. \n",
    "data = pd.read_csv('vehicles.csv')"
   ]
  },
  {
   "cell_type": "code",
   "execution_count": 22,
   "metadata": {},
   "outputs": [],
   "source": [
    "columns = data[['Year', 'Cylinders', 'Fuel Barrels/Year', 'Combined MPG', 'Fuel Cost/Year', 'CO2 Emission Grams/Mile']]"
   ]
  },
  {
   "cell_type": "code",
   "execution_count": 23,
   "metadata": {
    "scrolled": true
   },
   "outputs": [
    {
     "data": {
      "text/plain": [
       "Year                          101.713065\n",
       "Cylinders                       3.080967\n",
       "Fuel Barrels/Year              19.956615\n",
       "Combined MPG                   26.136725\n",
       "Fuel Cost/Year             257007.049913\n",
       "CO2 Emission Grams/Mile     14175.467724\n",
       "dtype: float64"
      ]
     },
     "execution_count": 23,
     "metadata": {},
     "output_type": "execute_result"
    }
   ],
   "source": [
    "columns.var()"
   ]
  },
  {
   "cell_type": "code",
   "execution_count": 24,
   "metadata": {},
   "outputs": [
    {
     "data": {
      "text/html": [
       "<div>\n",
       "<style scoped>\n",
       "    .dataframe tbody tr th:only-of-type {\n",
       "        vertical-align: middle;\n",
       "    }\n",
       "\n",
       "    .dataframe tbody tr th {\n",
       "        vertical-align: top;\n",
       "    }\n",
       "\n",
       "    .dataframe thead th {\n",
       "        text-align: right;\n",
       "    }\n",
       "</style>\n",
       "<table border=\"1\" class=\"dataframe\">\n",
       "  <thead>\n",
       "    <tr style=\"text-align: right;\">\n",
       "      <th></th>\n",
       "      <th>Year</th>\n",
       "      <th>Cylinders</th>\n",
       "      <th>Fuel Barrels/Year</th>\n",
       "      <th>Combined MPG</th>\n",
       "      <th>Fuel Cost/Year</th>\n",
       "      <th>CO2 Emission Grams/Mile</th>\n",
       "    </tr>\n",
       "  </thead>\n",
       "  <tbody>\n",
       "    <tr>\n",
       "      <th>Year</th>\n",
       "      <td>1.000000</td>\n",
       "      <td>0.082469</td>\n",
       "      <td>-0.221084</td>\n",
       "      <td>0.204751</td>\n",
       "      <td>-0.091913</td>\n",
       "      <td>-0.222300</td>\n",
       "    </tr>\n",
       "    <tr>\n",
       "      <th>Cylinders</th>\n",
       "      <td>0.082469</td>\n",
       "      <td>1.000000</td>\n",
       "      <td>0.739517</td>\n",
       "      <td>-0.698648</td>\n",
       "      <td>0.778153</td>\n",
       "      <td>0.752393</td>\n",
       "    </tr>\n",
       "    <tr>\n",
       "      <th>Fuel Barrels/Year</th>\n",
       "      <td>-0.221084</td>\n",
       "      <td>0.739517</td>\n",
       "      <td>1.000000</td>\n",
       "      <td>-0.909743</td>\n",
       "      <td>0.916208</td>\n",
       "      <td>0.986189</td>\n",
       "    </tr>\n",
       "    <tr>\n",
       "      <th>Combined MPG</th>\n",
       "      <td>0.204751</td>\n",
       "      <td>-0.698648</td>\n",
       "      <td>-0.909743</td>\n",
       "      <td>1.000000</td>\n",
       "      <td>-0.875185</td>\n",
       "      <td>-0.926229</td>\n",
       "    </tr>\n",
       "    <tr>\n",
       "      <th>Fuel Cost/Year</th>\n",
       "      <td>-0.091913</td>\n",
       "      <td>0.778153</td>\n",
       "      <td>0.916208</td>\n",
       "      <td>-0.875185</td>\n",
       "      <td>1.000000</td>\n",
       "      <td>0.930865</td>\n",
       "    </tr>\n",
       "    <tr>\n",
       "      <th>CO2 Emission Grams/Mile</th>\n",
       "      <td>-0.222300</td>\n",
       "      <td>0.752393</td>\n",
       "      <td>0.986189</td>\n",
       "      <td>-0.926229</td>\n",
       "      <td>0.930865</td>\n",
       "      <td>1.000000</td>\n",
       "    </tr>\n",
       "  </tbody>\n",
       "</table>\n",
       "</div>"
      ],
      "text/plain": [
       "                             Year  Cylinders  Fuel Barrels/Year  Combined MPG  \\\n",
       "Year                     1.000000   0.082469          -0.221084      0.204751   \n",
       "Cylinders                0.082469   1.000000           0.739517     -0.698648   \n",
       "Fuel Barrels/Year       -0.221084   0.739517           1.000000     -0.909743   \n",
       "Combined MPG             0.204751  -0.698648          -0.909743      1.000000   \n",
       "Fuel Cost/Year          -0.091913   0.778153           0.916208     -0.875185   \n",
       "CO2 Emission Grams/Mile -0.222300   0.752393           0.986189     -0.926229   \n",
       "\n",
       "                         Fuel Cost/Year  CO2 Emission Grams/Mile  \n",
       "Year                          -0.091913                -0.222300  \n",
       "Cylinders                      0.778153                 0.752393  \n",
       "Fuel Barrels/Year              0.916208                 0.986189  \n",
       "Combined MPG                  -0.875185                -0.926229  \n",
       "Fuel Cost/Year                 1.000000                 0.930865  \n",
       "CO2 Emission Grams/Mile        0.930865                 1.000000  "
      ]
     },
     "execution_count": 24,
     "metadata": {},
     "output_type": "execute_result"
    }
   ],
   "source": [
    "columns.corr()"
   ]
  },
  {
   "cell_type": "markdown",
   "metadata": {},
   "source": [
    "Build a regression model for this data. What type of regression are you using? Add your responses as comments after your code."
   ]
  },
  {
   "cell_type": "code",
   "execution_count": 26,
   "metadata": {},
   "outputs": [],
   "source": [
    "# Your response here. \n",
    "modelo = ols('data[\"CO2 Emission Grams/Mile\"] ~ C(data[\"Year\"]) + C(data[\"Cylinders\"]) + C(data[\"Fuel Barrels/Year\"]) + C(data[\"Combined MPG\"]) + C(data[\"Fuel Cost/Year\"])', data=columns).fit()"
   ]
  },
  {
   "cell_type": "markdown",
   "metadata": {},
   "source": [
    "Print your regression summary, and interpret the results. What are the most important varibles in your model and why? What can conclusions can you draw from your model and how confident in these conclusions are you? Add your responses as comments after your code."
   ]
  },
  {
   "cell_type": "code",
   "execution_count": 28,
   "metadata": {
    "scrolled": false
   },
   "outputs": [
    {
     "name": "stdout",
     "output_type": "stream",
     "text": [
      "                                   OLS Regression Results                                  \n",
      "===========================================================================================\n",
      "Dep. Variable:     data[\"CO2 Emission Grams/Mile\"]   R-squared:                       0.999\n",
      "Model:                                         OLS   Adj. R-squared:                  0.999\n",
      "Method:                              Least Squares   F-statistic:                 3.114e+05\n",
      "Date:                             Tue, 01 Mar 2022   Prob (F-statistic):               0.00\n",
      "Time:                                     23:48:12   Log-Likelihood:                -88782.\n",
      "No. Observations:                            35952   AIC:                         1.780e+05\n",
      "Df Residuals:                                35752   BIC:                         1.797e+05\n",
      "Df Model:                                      199                                         \n",
      "Covariance Type:                         nonrobust                                         \n",
      "======================================================================================================================\n",
      "                                                         coef    std err          t      P>|t|      [0.025      0.975]\n",
      "----------------------------------------------------------------------------------------------------------------------\n",
      "Intercept                                            381.0335      0.455    838.343      0.000     380.143     381.924\n",
      "C(data[\"Year\"])[T.1985]                               -0.0658      0.136     -0.484      0.628      -0.332       0.201\n",
      "C(data[\"Year\"])[T.1986]                               -0.0589      0.142     -0.414      0.679      -0.337       0.220\n",
      "C(data[\"Year\"])[T.1987]                               -0.0402      0.142     -0.283      0.777      -0.318       0.238\n",
      "C(data[\"Year\"])[T.1988]                               -0.0335      0.144     -0.233      0.816      -0.315       0.248\n",
      "C(data[\"Year\"])[T.1989]                               -0.0164      0.143     -0.115      0.909      -0.298       0.265\n",
      "C(data[\"Year\"])[T.1990]                               -0.0147      0.145     -0.101      0.919      -0.299       0.270\n",
      "C(data[\"Year\"])[T.1991]                               -0.0125      0.144     -0.087      0.931      -0.294       0.269\n",
      "C(data[\"Year\"])[T.1992]                               -0.0285      0.144     -0.198      0.843      -0.311       0.254\n",
      "C(data[\"Year\"])[T.1993]                               -0.0256      0.145     -0.176      0.860      -0.310       0.259\n",
      "C(data[\"Year\"])[T.1994]                               -0.0344      0.148     -0.232      0.817      -0.325       0.257\n",
      "C(data[\"Year\"])[T.1995]                               -0.0397      0.150     -0.265      0.791      -0.333       0.254\n",
      "C(data[\"Year\"])[T.1996]                               -0.0479      0.156     -0.307      0.759      -0.354       0.258\n",
      "C(data[\"Year\"])[T.1997]                               -0.0750      0.157     -0.478      0.632      -0.382       0.232\n",
      "C(data[\"Year\"])[T.1998]                               -0.0706      0.155     -0.455      0.649      -0.375       0.234\n",
      "C(data[\"Year\"])[T.1999]                               -0.0715      0.154     -0.465      0.642      -0.373       0.230\n",
      "C(data[\"Year\"])[T.2000]                               -0.0672      0.154     -0.437      0.662      -0.369       0.234\n",
      "C(data[\"Year\"])[T.2001]                               -0.0559      0.151     -0.370      0.711      -0.352       0.240\n",
      "C(data[\"Year\"])[T.2002]                               -0.0490      0.149     -0.328      0.743      -0.342       0.244\n",
      "C(data[\"Year\"])[T.2003]                               -0.0630      0.147     -0.427      0.669      -0.352       0.226\n",
      "C(data[\"Year\"])[T.2004]                               -0.0727      0.146     -0.499      0.618      -0.358       0.213\n",
      "C(data[\"Year\"])[T.2005]                               -0.0777      0.145     -0.536      0.592      -0.362       0.206\n",
      "C(data[\"Year\"])[T.2006]                               -0.0723      0.146     -0.494      0.621      -0.359       0.214\n",
      "C(data[\"Year\"])[T.2007]                               -0.0979      0.146     -0.672      0.502      -0.384       0.188\n",
      "C(data[\"Year\"])[T.2008]                               -0.0787      0.145     -0.543      0.587      -0.362       0.205\n",
      "C(data[\"Year\"])[T.2009]                               -0.1278      0.145     -0.882      0.378      -0.412       0.156\n",
      "C(data[\"Year\"])[T.2010]                               -0.1059      0.147     -0.722      0.470      -0.394       0.182\n",
      "C(data[\"Year\"])[T.2011]                               -0.1239      0.146     -0.846      0.398      -0.411       0.163\n",
      "C(data[\"Year\"])[T.2012]                               -0.1320      0.147     -0.900      0.368      -0.419       0.156\n",
      "C(data[\"Year\"])[T.2013]                               -0.6170      0.147     -4.205      0.000      -0.905      -0.329\n",
      "C(data[\"Year\"])[T.2014]                               -0.9010      0.146     -6.161      0.000      -1.188      -0.614\n",
      "C(data[\"Year\"])[T.2015]                               -0.9262      0.145     -6.369      0.000      -1.211      -0.641\n",
      "C(data[\"Year\"])[T.2016]                               -0.7298      0.146     -4.987      0.000      -1.017      -0.443\n",
      "C(data[\"Year\"])[T.2017]                               -0.3201      0.156     -2.048      0.041      -0.627      -0.014\n",
      "C(data[\"Cylinders\"])[T.3.0]                           -0.5853      0.505     -1.158      0.247      -1.576       0.405\n",
      "C(data[\"Cylinders\"])[T.4.0]                           -0.2371      0.432     -0.549      0.583      -1.083       0.609\n",
      "C(data[\"Cylinders\"])[T.5.0]                           -0.3808      0.443     -0.860      0.390      -1.249       0.487\n",
      "C(data[\"Cylinders\"])[T.6.0]                           -0.0705      0.430     -0.164      0.870      -0.913       0.772\n",
      "C(data[\"Cylinders\"])[T.8.0]                            0.3187      0.431      0.739      0.460      -0.527       1.164\n",
      "C(data[\"Cylinders\"])[T.10.0]                           0.9796      0.495      1.978      0.048       0.009       1.950\n",
      "C(data[\"Cylinders\"])[T.12.0]                           0.3662      0.456      0.803      0.422      -0.527       1.260\n",
      "C(data[\"Cylinders\"])[T.16.0]                         -14.8981      1.187    -12.549      0.000     -17.225     -12.571\n",
      "C(data[\"Fuel Barrels/Year\"])[T.0.0664285714285714]   -43.7794      1.027    -42.612      0.000     -45.793     -41.766\n",
      "C(data[\"Fuel Barrels/Year\"])[T.0.0688888888888888]   -44.9381      1.650    -27.233      0.000     -48.172     -41.704\n",
      "C(data[\"Fuel Barrels/Year\"])[T.0.0808695652173913]   -63.4436      2.239    -28.341      0.000     -67.831     -59.056\n",
      "C(data[\"Fuel Barrels/Year\"])[T.0.0845454545454545]    -2.5502      3.051     -0.836      0.403      -8.530       3.430\n",
      "C(data[\"Fuel Barrels/Year\"])[T.0.1033333333333333]   -46.1715      2.509    -18.399      0.000     -51.090     -41.253\n",
      "C(data[\"Fuel Barrels/Year\"])[T.0.1094117647058823]   -93.7745      1.029    -91.094      0.000     -95.792     -91.757\n",
      "C(data[\"Fuel Barrels/Year\"])[T.0.11625]              -61.2395      0.880    -69.560      0.000     -62.965     -59.514\n",
      "C(data[\"Fuel Barrels/Year\"])[T.0.124]                -71.0426      1.931    -36.788      0.000     -74.828     -67.258\n",
      "C(data[\"Fuel Barrels/Year\"])[T.0.1328571428571428]   -20.0180      1.537    -13.027      0.000     -23.030     -17.006\n",
      "C(data[\"Fuel Barrels/Year\"])[T.0.143076923076923]      9.8354      0.358     27.466      0.000       9.134      10.537\n",
      "C(data[\"Fuel Barrels/Year\"])[T.0.155]                 25.3565      0.334     75.983      0.000      24.702      26.011\n",
      "C(data[\"Fuel Barrels/Year\"])[T.0.1690909090909091]    44.1910      0.796     55.529      0.000      42.631      45.751\n",
      "C(data[\"Fuel Barrels/Year\"])[T.0.186]                  6.5022      1.616      4.025      0.000       3.336       9.669\n",
      "C(data[\"Fuel Barrels/Year\"])[T.0.2066666666666667]    33.5233      0.815     41.149      0.000      31.926      35.120\n",
      "C(data[\"Fuel Barrels/Year\"])[T.1.5631903722478575]  -163.8489      1.833    -89.402      0.000    -167.441    -160.257\n",
      "C(data[\"Fuel Barrels/Year\"])[T.2.0068441858803987]  -106.9431      1.673    -63.933      0.000    -110.222    -103.664\n",
      "C(data[\"Fuel Barrels/Year\"])[T.3.0925388035714287]  -125.0973      1.485    -84.245      0.000    -128.008    -122.187\n",
      "C(data[\"Fuel Barrels/Year\"])[T.3.3756214821428574]  -121.2841      1.739    -69.740      0.000    -124.693    -117.875\n",
      "C(data[\"Fuel Barrels/Year\"])[T.3.5046504307917896]  -169.0230      2.347    -72.025      0.000    -173.623    -164.423\n",
      "C(data[\"Fuel Barrels/Year\"])[T.3.614241815668203]   -162.6296      1.717    -94.717      0.000    -165.995    -159.264\n",
      "C(data[\"Fuel Barrels/Year\"])[T.3.8355825516046216]  -107.2330      2.009    -53.386      0.000    -111.170    -103.296\n",
      "C(data[\"Fuel Barrels/Year\"])[T.3.880578051315789]    -53.2090      2.121    -25.090      0.000     -57.366     -49.052\n",
      "C(data[\"Fuel Barrels/Year\"])[T.4.028975201298702]   -152.4350      2.385    -63.924      0.000    -157.109    -147.761\n",
      "C(data[\"Fuel Barrels/Year\"])[T.4.184202292002269]    -46.1479      2.150    -21.465      0.000     -50.362     -41.934\n",
      "C(data[\"Fuel Barrels/Year\"])[T.4.7371439591836735]   -37.7747      1.458    -25.902      0.000     -40.633     -34.916\n",
      "C(data[\"Fuel Barrels/Year\"])[T.4.744612481512606]    -38.4575      2.148    -17.901      0.000     -42.668     -34.247\n",
      "C(data[\"Fuel Barrels/Year\"])[T.4.827656776595744]    -61.7981      1.828    -33.805      0.000     -65.381     -58.215\n",
      "C(data[\"Fuel Barrels/Year\"])[T.4.87758466125]        -95.1742      2.501    -38.054      0.000    -100.076     -90.272\n",
      "C(data[\"Fuel Barrels/Year\"])[T.4.87870354125]        -95.1013      1.431    -66.466      0.000     -97.906     -92.297\n",
      "C(data[\"Fuel Barrels/Year\"])[T.5.115502679169414]    -64.7343      2.551    -25.374      0.000     -69.735     -59.734\n",
      "C(data[\"Fuel Barrels/Year\"])[T.5.846634032142857]    -35.8624      3.486    -10.286      0.000     -42.696     -29.029\n",
      "C(data[\"Fuel Barrels/Year\"])[T.5.863279935135134]   -101.3362      2.605    -38.899      0.000    -106.442     -96.230\n",
      "C(data[\"Fuel Barrels/Year\"])[T.5.885892857142856]   -111.1357      0.993   -111.965      0.000    -113.081    -109.190\n",
      "C(data[\"Fuel Barrels/Year\"])[T.6.219056603773584]    -36.2955      0.624    -58.145      0.000     -37.519     -35.072\n",
      "C(data[\"Fuel Barrels/Year\"])[T.6.338653846153847]    -34.7358      0.564    -61.577      0.000     -35.841     -33.630\n",
      "C(data[\"Fuel Barrels/Year\"])[T.6.359254842857142]   -200.4682      1.985   -100.993      0.000    -204.359    -196.578\n",
      "C(data[\"Fuel Barrels/Year\"])[T.6.5922]                 7.1444      1.105      6.465      0.000       4.978       9.310\n",
      "C(data[\"Fuel Barrels/Year\"])[T.6.866875]             -34.5178      0.846    -40.784      0.000     -36.177     -32.859\n",
      "C(data[\"Fuel Barrels/Year\"])[T.7.012978723404256]    -32.0333      0.406    -78.821      0.000     -32.830     -31.237\n",
      "C(data[\"Fuel Barrels/Year\"])[T.7.070999909243697]    -67.8446      2.385    -28.442      0.000     -72.520     -63.169\n",
      "C(data[\"Fuel Barrels/Year\"])[T.7.165434782608696]      1.0250      1.226      0.836      0.403      -1.377       3.427\n",
      "C(data[\"Fuel Barrels/Year\"])[T.7.324666666666666]    -76.5988      0.897    -85.422      0.000     -78.356     -74.841\n",
      "C(data[\"Fuel Barrels/Year\"])[T.7.356924277610839]    -98.4644      1.466    -67.168      0.000    -101.338     -95.591\n",
      "C(data[\"Fuel Barrels/Year\"])[T.7.491136363636365]    -75.0880      1.121    -67.007      0.000     -77.284     -72.892\n",
      "C(data[\"Fuel Barrels/Year\"])[T.7.665348837209303]    -72.2851      1.221    -59.186      0.000     -74.679     -69.891\n",
      "C(data[\"Fuel Barrels/Year\"])[T.7.847857142857142]     52.4638      1.041     50.389      0.000      50.423      54.505\n",
      "C(data[\"Fuel Barrels/Year\"])[T.7.9845733655172415]   -53.4583      2.615    -20.439      0.000     -58.585     -48.332\n",
      "C(data[\"Fuel Barrels/Year\"])[T.8.00933041448276]     -91.3033      2.450    -37.269      0.000     -96.105     -86.501\n",
      "C(data[\"Fuel Barrels/Year\"])[T.8.039268292682928]    -21.0738      0.275    -76.749      0.000     -21.612     -20.536\n",
      "C(data[\"Fuel Barrels/Year\"])[T.8.07698136431784]     -53.2619      2.616    -20.362      0.000     -58.389     -48.135\n",
      "C(data[\"Fuel Barrels/Year\"])[T.8.099619256371815]    -76.2871      2.616    -29.162      0.000     -81.414     -71.160\n",
      "C(data[\"Fuel Barrels/Year\"])[T.8.24025]               14.0628      1.103     12.752      0.000      11.901      16.224\n",
      "C(data[\"Fuel Barrels/Year\"])[T.8.2468347375]        -102.0868      1.748    -58.392      0.000    -105.514     -98.660\n",
      "C(data[\"Fuel Barrels/Year\"])[T.8.451538461538462]     70.4665      1.197     58.861      0.000      68.120      72.813\n",
      "C(data[\"Fuel Barrels/Year\"])[T.8.6525500625]         -44.7013      2.616    -17.086      0.000     -49.829     -39.573\n",
      "C(data[\"Fuel Barrels/Year\"])[T.8.6706743725]         -41.2916      2.616    -15.787      0.000     -46.418     -36.165\n",
      "C(data[\"Fuel Barrels/Year\"])[T.8.673947368421054]     10.1217      1.219      8.303      0.000       7.732      12.511\n",
      "C(data[\"Fuel Barrels/Year\"])[T.8.908378378378377]     31.8844      1.016     31.385      0.000      29.893      33.876\n",
      "C(data[\"Fuel Barrels/Year\"])[T.9.155833333333334]    -47.8975      0.793    -60.436      0.000     -49.451     -46.344\n",
      "C(data[\"Fuel Barrels/Year\"])[T.9.178873768695652]    -78.9411      2.612    -30.220      0.000     -84.061     -73.821\n",
      "C(data[\"Fuel Barrels/Year\"])[T.9.179989168695652]    -78.3507      2.614    -29.972      0.000     -83.475     -73.227\n",
      "C(data[\"Fuel Barrels/Year\"])[T.9.417428571428571]     -6.1929      2.174     -2.848      0.004     -10.455      -1.931\n",
      "C(data[\"Fuel Barrels/Year\"])[T.9.53202746964286]     -69.4990      1.958    -35.487      0.000     -73.338     -65.660\n",
      "C(data[\"Fuel Barrels/Year\"])[T.9.53520116964286]     -72.0068      2.594    -27.757      0.000     -77.092     -66.922\n",
      "C(data[\"Fuel Barrels/Year\"])[T.9.554625]              -2.7506      1.346     -2.043      0.041      -5.389      -0.112\n",
      "C(data[\"Fuel Barrels/Year\"])[T.9.694411764705883]    -42.8064      0.722    -59.270      0.000     -44.222     -41.391\n",
      "C(data[\"Fuel Barrels/Year\"])[T.9.799615384615386]     63.9712      3.291     19.437      0.000      57.520      70.422\n",
      "C(data[\"Fuel Barrels/Year\"])[T.9.988181818181818]     13.9096      0.892     15.586      0.000      12.160      15.659\n",
      "C(data[\"Fuel Barrels/Year\"])[T.10.0575]               51.8219      3.099     16.724      0.000      45.748      57.895\n",
      "C(data[\"Fuel Barrels/Year\"])[T.10.3003125]            17.0650      1.167     14.619      0.000      14.777      19.353\n",
      "C(data[\"Fuel Barrels/Year\"])[T.10.329324324324324]    69.5875      1.346     51.702      0.000      66.949      72.226\n",
      "C(data[\"Fuel Barrels/Year\"])[T.10.40295132375]       -52.7899      2.595    -20.346      0.000     -57.875     -47.704\n",
      "C(data[\"Fuel Barrels/Year\"])[T.10.61625]             -10.0509      0.881    -11.415      0.000     -11.777      -8.325\n",
      "C(data[\"Fuel Barrels/Year\"])[T.10.632580645161289]    66.6387      1.931     34.504      0.000      62.853      70.424\n",
      "C(data[\"Fuel Barrels/Year\"])[T.10.7943661125]          2.1639      1.653      1.309      0.190      -1.075       5.403\n",
      "C(data[\"Fuel Barrels/Year\"])[T.10.803702789130432]   -96.4044      2.380    -40.513      0.000    -101.068     -91.740\n",
      "C(data[\"Fuel Barrels/Year\"])[T.10.919571428571428]    23.5569      1.885     12.497      0.000      19.862      27.252\n",
      "C(data[\"Fuel Barrels/Year\"])[T.10.987]                40.8651      0.902     45.314      0.000      39.097      42.633\n",
      "C(data[\"Fuel Barrels/Year\"])[T.11.240735294117648]    -4.5176      0.719     -6.281      0.000      -5.927      -3.108\n",
      "C(data[\"Fuel Barrels/Year\"])[T.11.365862068965518]   -25.1882      1.871    -13.464      0.000     -28.855     -21.521\n",
      "C(data[\"Fuel Barrels/Year\"])[T.11.581363636363635]    52.7778      1.053     50.105      0.000      50.713      54.842\n",
      "C(data[\"Fuel Barrels/Year\"])[T.11.771785714285713]    19.9247      0.691     28.855      0.000      18.571      21.278\n",
      "C(data[\"Fuel Barrels/Year\"])[T.11.94328125]           62.2254      2.301     27.045      0.000      57.716      66.735\n",
      "C(data[\"Fuel Barrels/Year\"])[T.12.207777777777777]    22.8954      1.028     22.273      0.000      20.881      24.910\n",
      "C(data[\"Fuel Barrels/Year\"])[T.12.328548387096774]   113.6252      3.601     31.552      0.000     106.567     120.684\n",
      "C(data[\"Fuel Barrels/Year\"])[T.12.677307692307696]    12.1661      1.012     12.020      0.000      10.182      14.150\n",
      "C(data[\"Fuel Barrels/Year\"])[T.12.7395]               83.2955      1.158     71.929      0.000      81.026      85.565\n",
      "C(data[\"Fuel Barrels/Year\"])[T.13.178793103448276]    12.7142      1.315      9.670      0.000      10.137      15.291\n",
      "C(data[\"Fuel Barrels/Year\"])[T.13.1844]               72.8838      0.839     86.861      0.000      71.239      74.528\n",
      "C(data[\"Fuel Barrels/Year\"])[T.13.649464285714286]    67.5584      1.254     53.881      0.000      65.101      70.016\n",
      "C(data[\"Fuel Barrels/Year\"])[T.13.73375]              44.6282      1.382     32.296      0.000      41.920      47.337\n",
      "C(data[\"Fuel Barrels/Year\"])[T.14.155]                69.1073      1.116     61.940      0.000      66.920      71.294\n",
      "C(data[\"Fuel Barrels/Year\"])[T.14.330869565217393]    13.1620      1.237     10.640      0.000      10.737      15.587\n",
      "C(data[\"Fuel Barrels/Year\"])[T.14.699423076923075]    68.6006      2.146     31.972      0.000      64.395      72.806\n",
      "C(data[\"Fuel Barrels/Year\"])[T.14.98227272727273]     73.7986      0.970     76.048      0.000      71.897      75.701\n",
      "C(data[\"Fuel Barrels/Year\"])[T.15.287400000000002]   125.5864      1.089    115.361      0.000     123.453     127.720\n",
      "C(data[\"Fuel Barrels/Year\"])[T.15.695714285714288]    32.1184      1.260     25.485      0.000      29.648      34.589\n",
      "C(data[\"Fuel Barrels/Year\"])[T.15.924375]             94.1208      2.140     43.977      0.000      89.926      98.316\n",
      "C(data[\"Fuel Barrels/Year\"])[T.16.4805]               74.6318      0.942     79.235      0.000      72.786      76.478\n",
      "C(data[\"Fuel Barrels/Year\"])[T.16.616739130434784]    71.0566      1.043     68.113      0.000      69.012      73.101\n",
      "C(data[\"Fuel Barrels/Year\"])[T.17.347894736842107]    25.9154      0.617     41.985      0.000      24.706      27.125\n",
      "C(data[\"Fuel Barrels/Year\"])[T.17.372045454545454]   103.4761      0.967    106.998      0.000     101.581     105.372\n",
      "C(data[\"Fuel Barrels/Year\"])[T.18.19928571428572]    101.7771      2.433     41.837      0.000      97.009     106.545\n",
      "C(data[\"Fuel Barrels/Year\"])[T.18.311666666666667]    49.3981      1.228     40.215      0.000      46.991      51.806\n",
      "C(data[\"Fuel Barrels/Year\"])[T.19.109250000000007]   115.8481      0.681    170.081      0.000     114.513     117.183\n",
      "C(data[\"Fuel Barrels/Year\"])[T.19.388823529411766]    61.4311      0.641     95.827      0.000      60.175      62.688\n",
      "C(data[\"Fuel Barrels/Year\"])[T.20.115]                63.2892      0.448    141.309      0.000      62.411      64.167\n",
      "C(data[\"Fuel Barrels/Year\"])[T.20.600625]             17.1924      0.368     46.755      0.000      16.472      17.913\n",
      "C(data[\"Fuel Barrels/Year\"])[T.21.2325]               91.0992      0.847    107.503      0.000      89.438      92.760\n",
      "C(data[\"Fuel Barrels/Year\"])[T.21.974]                73.4775      0.922     79.663      0.000      71.670      75.285\n",
      "C(data[\"Fuel Barrels/Year\"])[T.22.481470588235297]   137.9815      0.743    185.620      0.000     136.525     139.439\n",
      "C(data[\"Fuel Barrels/Year\"])[T.23.543571428571425]   107.2312      0.791    135.512      0.000     105.680     108.782\n",
      "C(data[\"Fuel Barrels/Year\"])[T.23.8865625]           165.0375      0.801    206.079      0.000     163.468     166.607\n",
      "C(data[\"Fuel Barrels/Year\"])[T.25.35461538461539]    128.2126      0.206    622.510      0.000     127.809     128.616\n",
      "C(data[\"Fuel Barrels/Year\"])[T.25.479000000000006]   161.1698      0.895    180.000      0.000     159.415     162.925\n",
      "C(data[\"Fuel Barrels/Year\"])[T.27.29892857142857]     86.2081      0.658    131.009      0.000      84.918      87.498\n",
      "C(data[\"Fuel Barrels/Year\"])[T.27.4675]              133.4374      0.156    855.550      0.000     133.132     133.743\n",
      "C(data[\"Fuel Barrels/Year\"])[T.29.96454545454546]    130.6476      0.473    276.425      0.000     129.721     131.574\n",
      "C(data[\"Fuel Barrels/Year\"])[T.32.961]               193.6339      0.754    256.943      0.000     192.157     195.111\n",
      "C(data[\"Fuel Barrels/Year\"])[T.36.623333333333335]   225.7738      0.560    403.164      0.000     224.676     226.871\n",
      "C(data[\"Fuel Barrels/Year\"])[T.41.20125]             291.8232      0.321    909.499      0.000     291.194     292.452\n",
      "C(data[\"Fuel Barrels/Year\"])[T.47.08714285714285]    444.1022      0.636    698.571      0.000     442.856     445.348\n",
      "C(data[\"Combined MPG\"])[T.8]                         291.8232      0.321    909.499      0.000     291.194     292.452\n",
      "C(data[\"Combined MPG\"])[T.9]                         259.2971      0.448    578.752      0.000     258.419     260.175\n",
      "C(data[\"Combined MPG\"])[T.10]                        200.1360      0.910    219.965      0.000     198.353     201.919\n",
      "C(data[\"Combined MPG\"])[T.11]                        174.8387      0.482    362.492      0.000     173.893     175.784\n",
      "C(data[\"Combined MPG\"])[T.12]                        158.7939      0.219    724.408      0.000     158.364     159.224\n",
      "C(data[\"Combined MPG\"])[T.13]                        138.0480      0.224    616.057      0.000     137.609     138.487\n",
      "C(data[\"Combined MPG\"])[T.14]                        173.4213      0.788    220.138      0.000     171.877     174.965\n",
      "C(data[\"Combined MPG\"])[T.15]                        163.6048      0.799    204.854      0.000     162.039     165.170\n",
      "C(data[\"Combined MPG\"])[T.16]                        120.9904      0.433    279.305      0.000     120.141     121.839\n",
      "C(data[\"Combined MPG\"])[T.17]                        107.8020      0.757    142.460      0.000     106.319     109.285\n",
      "C(data[\"Combined MPG\"])[T.18]                         94.3259      0.860    109.649      0.000      92.640      96.012\n",
      "C(data[\"Combined MPG\"])[T.19]                         89.2046      0.414    215.717      0.000      88.394      90.015\n",
      "C(data[\"Combined MPG\"])[T.20]                         -9.9883      0.725    -13.781      0.000     -11.409      -8.568\n",
      "C(data[\"Combined MPG\"])[T.21]                         37.4911      0.859     43.669      0.000      35.808      39.174\n",
      "C(data[\"Combined MPG\"])[T.22]                        -19.5713      0.939    -20.853      0.000     -21.411     -17.732\n",
      "C(data[\"Combined MPG\"])[T.23]                         20.7749      0.863     24.066      0.000      19.083      22.467\n",
      "C(data[\"Combined MPG\"])[T.24]                        -18.5429      1.727    -10.736      0.000     -21.928     -15.158\n",
      "C(data[\"Combined MPG\"])[T.25]                        -70.5298      1.109    -63.623      0.000     -72.703     -68.357\n",
      "C(data[\"Combined MPG\"])[T.26]                        -21.3201      0.945    -22.573      0.000     -23.171     -19.469\n",
      "C(data[\"Combined MPG\"])[T.27]                        -44.2386      0.788    -56.155      0.000     -45.783     -42.695\n",
      "C(data[\"Combined MPG\"])[T.28]                        -54.7607      0.622    -88.048      0.000     -55.980     -53.542\n",
      "C(data[\"Combined MPG\"])[T.29]                        -12.4740      0.898    -13.897      0.000     -14.233     -10.715\n",
      "C(data[\"Combined MPG\"])[T.30]                        -96.1189      1.064    -90.340      0.000     -98.204     -94.034\n",
      "C(data[\"Combined MPG\"])[T.31]                       -130.3882      1.713    -76.112      0.000    -133.746    -127.030\n",
      "C(data[\"Combined MPG\"])[T.32]                        -89.7326      1.012    -88.664      0.000     -91.716     -87.749\n",
      "C(data[\"Combined MPG\"])[T.33]                        -95.9422      0.669   -143.456      0.000     -97.253     -94.631\n",
      "C(data[\"Combined MPG\"])[T.34]                        -47.3241      0.507    -93.333      0.000     -48.318     -46.330\n",
      "C(data[\"Combined MPG\"])[T.35]                        -83.9721      1.545    -54.342      0.000     -87.001     -80.943\n",
      "C(data[\"Combined MPG\"])[T.36]                        -57.9484      0.553   -104.862      0.000     -59.032     -56.865\n",
      "C(data[\"Combined MPG\"])[T.37]                       -144.9094      0.815   -177.752      0.000    -146.507    -143.312\n",
      "C(data[\"Combined MPG\"])[T.38]                       -128.3318      0.899   -142.739      0.000    -130.094    -126.570\n",
      "C(data[\"Combined MPG\"])[T.39]                       -147.3545      1.063   -138.604      0.000    -149.438    -145.271\n",
      "C(data[\"Combined MPG\"])[T.40]                        -95.9208      0.784   -122.368      0.000     -97.457     -94.384\n",
      "C(data[\"Combined MPG\"])[T.41]                        -21.0738      0.275    -76.749      0.000     -21.612     -20.536\n",
      "C(data[\"Combined MPG\"])[T.42]                       -100.6272      0.593   -169.588      0.000    -101.790     -99.464\n",
      "C(data[\"Combined MPG\"])[T.43]                        -72.2851      1.221    -59.186      0.000     -74.679     -69.891\n",
      "C(data[\"Combined MPG\"])[T.44]                        -75.0880      1.121    -67.007      0.000     -77.284     -72.892\n",
      "C(data[\"Combined MPG\"])[T.45]                        -76.5988      0.897    -85.422      0.000     -78.356     -74.841\n",
      "C(data[\"Combined MPG\"])[T.46]                        -60.7731      0.799    -76.097      0.000     -62.338     -59.208\n",
      "C(data[\"Combined MPG\"])[T.47]                        -32.0333      0.406    -78.821      0.000     -32.830     -31.237\n",
      "C(data[\"Combined MPG\"])[T.48]                        -34.5178      0.846    -40.784      0.000     -36.177     -32.859\n",
      "C(data[\"Combined MPG\"])[T.50]                        -69.0878      0.678   -101.904      0.000     -70.417     -67.759\n",
      "C(data[\"Combined MPG\"])[T.52]                        -34.7358      0.564    -61.577      0.000     -35.841     -33.630\n",
      "C(data[\"Combined MPG\"])[T.53]                        -36.2955      0.624    -58.145      0.000     -37.519     -35.072\n",
      "C(data[\"Combined MPG\"])[T.56]                       -111.1357      0.993   -111.965      0.000    -113.081    -109.190\n",
      "C(data[\"Fuel Cost/Year\"])[T.650]                    -140.1191      0.471   -297.776      0.000    -141.041    -139.197\n",
      "C(data[\"Fuel Cost/Year\"])[T.700]                    -127.3242      0.548   -232.543      0.000    -128.397    -126.251\n",
      "C(data[\"Fuel Cost/Year\"])[T.750]                     -29.5201      2.223    -13.282      0.000     -33.876     -25.164\n",
      "C(data[\"Fuel Cost/Year\"])[T.800]                    -121.7010      0.408   -298.500      0.000    -122.500    -120.902\n",
      "C(data[\"Fuel Cost/Year\"])[T.850]                     -75.9127      0.897    -84.621      0.000     -77.671     -74.154\n",
      "C(data[\"Fuel Cost/Year\"])[T.900]                     -27.5606      1.063    -25.931      0.000     -29.644     -25.477\n",
      "C(data[\"Fuel Cost/Year\"])[T.950]                     -36.3315      3.330    -10.910      0.000     -42.859     -29.804\n",
      "C(data[\"Fuel Cost/Year\"])[T.1000]                    -29.0905      1.022    -28.454      0.000     -31.094     -27.087\n",
      "C(data[\"Fuel Cost/Year\"])[T.1050]                    -29.9778      0.952    -31.476      0.000     -31.845     -28.111\n",
      "C(data[\"Fuel Cost/Year\"])[T.1100]                    -28.9749      0.910    -31.843      0.000     -30.758     -27.191\n",
      "C(data[\"Fuel Cost/Year\"])[T.1150]                    -36.7583      2.656    -13.838      0.000     -41.965     -31.552\n",
      "C(data[\"Fuel Cost/Year\"])[T.1200]                    -28.5223      0.913    -31.224      0.000     -30.313     -26.732\n",
      "C(data[\"Fuel Cost/Year\"])[T.1250]                    -30.3110      0.942    -32.183      0.000     -32.157     -28.465\n",
      "C(data[\"Fuel Cost/Year\"])[T.1300]                    -29.8159      1.022    -29.165      0.000     -31.820     -27.812\n",
      "C(data[\"Fuel Cost/Year\"])[T.1350]                    -27.5127      0.884    -31.107      0.000     -29.246     -25.779\n",
      "C(data[\"Fuel Cost/Year\"])[T.1400]                    -36.3621      2.638    -13.786      0.000     -41.532     -31.192\n",
      "C(data[\"Fuel Cost/Year\"])[T.1450]                    -28.3708      0.900    -31.520      0.000     -30.135     -26.607\n",
      "C(data[\"Fuel Cost/Year\"])[T.1500]                    -30.9343      0.969    -31.917      0.000     -32.834     -29.035\n",
      "C(data[\"Fuel Cost/Year\"])[T.1550]                    -29.7282      1.039    -28.608      0.000     -31.765     -27.691\n",
      "C(data[\"Fuel Cost/Year\"])[T.1600]                    -27.2451      0.877    -31.065      0.000     -28.964     -25.526\n",
      "C(data[\"Fuel Cost/Year\"])[T.1650]                     -1.0958      0.530     -2.069      0.039      -2.134      -0.058\n",
      "C(data[\"Fuel Cost/Year\"])[T.1700]                    -35.5826      2.640    -13.477      0.000     -40.758     -30.408\n",
      "C(data[\"Fuel Cost/Year\"])[T.1750]                    -28.0879      0.898    -31.267      0.000     -29.849     -26.327\n",
      "C(data[\"Fuel Cost/Year\"])[T.1800]                     22.0736      0.641     34.456      0.000      20.818      23.329\n",
      "C(data[\"Fuel Cost/Year\"])[T.1850]                    -31.0647      0.976    -31.815      0.000     -32.979     -29.151\n",
      "C(data[\"Fuel Cost/Year\"])[T.1900]                      2.0497      0.531      3.857      0.000       1.008       3.091\n",
      "C(data[\"Fuel Cost/Year\"])[T.1950]                    -27.3199      0.877    -31.168      0.000     -29.038     -25.602\n",
      "C(data[\"Fuel Cost/Year\"])[T.2000]                     -1.2079      0.528     -2.289      0.022      -2.242      -0.174\n",
      "C(data[\"Fuel Cost/Year\"])[T.2050]                    -28.8042      1.350    -21.331      0.000     -31.451     -26.158\n",
      "C(data[\"Fuel Cost/Year\"])[T.2100]                     36.3262      0.195    186.510      0.000      35.944      36.708\n",
      "C(data[\"Fuel Cost/Year\"])[T.2150]                    -28.2929      0.902    -31.381      0.000     -30.060     -26.526\n",
      "C(data[\"Fuel Cost/Year\"])[T.2200]                    -25.3956      1.056    -24.041      0.000     -27.466     -23.325\n",
      "C(data[\"Fuel Cost/Year\"])[T.2250]                    -31.0938      0.981    -31.699      0.000     -33.016     -29.171\n",
      "C(data[\"Fuel Cost/Year\"])[T.2300]                     37.2031      0.633     58.813      0.000      35.963      38.443\n",
      "C(data[\"Fuel Cost/Year\"])[T.2350]                      9.8354      0.358     27.466      0.000       9.134      10.537\n",
      "C(data[\"Fuel Cost/Year\"])[T.2400]                    -27.4044      0.887    -30.904      0.000     -29.142     -25.666\n",
      "C(data[\"Fuel Cost/Year\"])[T.2450]                    -30.9695      1.354    -22.866      0.000     -33.624     -28.315\n",
      "C(data[\"Fuel Cost/Year\"])[T.2500]                     25.3565      0.334     75.983      0.000      24.702      26.011\n",
      "C(data[\"Fuel Cost/Year\"])[T.2550]                     36.2739      0.185    196.442      0.000      35.912      36.636\n",
      "C(data[\"Fuel Cost/Year\"])[T.2600]                     86.2081      0.658    131.009      0.000      84.918      87.498\n",
      "C(data[\"Fuel Cost/Year\"])[T.2700]                    -25.9485      1.068    -24.302      0.000     -28.041     -23.856\n",
      "C(data[\"Fuel Cost/Year\"])[T.2750]                     44.1910      0.796     55.529      0.000      42.631      45.751\n",
      "C(data[\"Fuel Cost/Year\"])[T.2800]                     66.6057      0.133    501.619      0.000      66.345      66.866\n",
      "C(data[\"Fuel Cost/Year\"])[T.2900]                    -28.0529      0.902    -31.094      0.000     -29.821     -26.285\n",
      "C(data[\"Fuel Cost/Year\"])[T.3050]                    121.0349      0.513    236.139      0.000     120.030     122.039\n",
      "C(data[\"Fuel Cost/Year\"])[T.3100]                     35.6019      0.237    150.084      0.000      35.137      36.067\n",
      "C(data[\"Fuel Cost/Year\"])[T.3350]                    113.6302      0.419    271.466      0.000     112.810     114.451\n",
      "C(data[\"Fuel Cost/Year\"])[T.3400]                     66.8317      0.150    446.207      0.000      66.538      67.125\n",
      "C(data[\"Fuel Cost/Year\"])[T.3700]                    121.0533      0.494    245.113      0.000     120.085     122.021\n",
      "C(data[\"Fuel Cost/Year\"])[T.4050]                    113.5269      0.497    228.532      0.000     112.553     114.501\n",
      "C(data[\"Fuel Cost/Year\"])[T.4150]                    145.9314      0.713    204.667      0.000     144.534     147.329\n",
      "C(data[\"Fuel Cost/Year\"])[T.4500]                    120.8354      1.069    113.010      0.000     118.740     122.931\n",
      "C(data[\"Fuel Cost/Year\"])[T.5050]                    145.8918      0.904    161.378      0.000     144.120     147.664\n",
      "C(data[\"Fuel Cost/Year\"])[T.5800]                    444.1022      0.636    698.571      0.000     442.856     445.348\n",
      "==============================================================================\n",
      "Omnibus:                    19186.813   Durbin-Watson:                   1.470\n",
      "Prob(Omnibus):                  0.000   Jarque-Bera (JB):          8472030.830\n",
      "Skew:                           1.271   Prob(JB):                         0.00\n",
      "Kurtosis:                      78.160   Cond. No.                     1.24e+16\n",
      "==============================================================================\n",
      "\n",
      "Notes:\n",
      "[1] Standard Errors assume that the covariance matrix of the errors is correctly specified.\n",
      "[2] The smallest eigenvalue is 3.59e-28. This might indicate that there are\n",
      "strong multicollinearity problems or that the design matrix is singular.\n"
     ]
    }
   ],
   "source": [
    "# Your response here. \n",
    "print(modelo.summary())"
   ]
  },
  {
   "cell_type": "markdown",
   "metadata": {},
   "source": [
    "## Bonus Challenge: Error Analysis"
   ]
  },
  {
   "cell_type": "markdown",
   "metadata": {},
   "source": [
    "I am suspicious about the last few parties I have thrown: it seems that the more people I invite the more people are unable to attend. To know if my hunch is supported by data, I have decided to do an analysis. I have collected my data in the table below, where X is the number of people I invited, and Y is the number of people who attended. \n",
    "\n",
    "|  X |  Y |\n",
    "|----|----|\n",
    "| 1  |  1 |\n",
    "| 3  |  2 |\n",
    "| 4  |  4 |\n",
    "| 6  |  4 |\n",
    "| 8  |  5 |\n",
    "| 9  |  7 |\n",
    "| 11 |  8 |\n",
    "| 14 |  13 |"
   ]
  },
  {
   "cell_type": "markdown",
   "metadata": {},
   "source": [
    "We want to know if the relationship modeled by the two random variables is linear or not, and therefore if it is appropriate to model it with a linear regression. \n",
    "First, build a dataframe with the data. "
   ]
  },
  {
   "cell_type": "code",
   "execution_count": 7,
   "metadata": {},
   "outputs": [],
   "source": [
    "# Your code here. "
   ]
  },
  {
   "cell_type": "markdown",
   "metadata": {},
   "source": [
    "Draw a dispersion diagram (scatter plot) for the data, and fit a regression line."
   ]
  },
  {
   "cell_type": "code",
   "execution_count": 1,
   "metadata": {},
   "outputs": [],
   "source": [
    "# Your code here."
   ]
  },
  {
   "cell_type": "markdown",
   "metadata": {},
   "source": [
    "What do you see? What does this plot tell you about the likely relationship between the variables? Print the results from your regression."
   ]
  },
  {
   "cell_type": "code",
   "execution_count": 2,
   "metadata": {},
   "outputs": [],
   "source": [
    "# Your response here. "
   ]
  },
  {
   "cell_type": "markdown",
   "metadata": {},
   "source": [
    "Do you see any problematic points, or outliers, in your data? Remove these points and recalculate your regression. Print the new dispersion diagram with your new model and the results of your model. "
   ]
  },
  {
   "cell_type": "code",
   "execution_count": 5,
   "metadata": {},
   "outputs": [],
   "source": [
    "# Your response here. "
   ]
  },
  {
   "cell_type": "markdown",
   "metadata": {},
   "source": [
    "What changed? Based on the results of the two models and your graphs, what can you say about the form of the data with the problematic point and without it?"
   ]
  },
  {
   "cell_type": "code",
   "execution_count": null,
   "metadata": {},
   "outputs": [],
   "source": [
    "# Your response here. "
   ]
  }
 ],
 "metadata": {
  "kernelspec": {
   "display_name": "Python 3 (ipykernel)",
   "language": "python",
   "name": "python3"
  },
  "language_info": {
   "codemirror_mode": {
    "name": "ipython",
    "version": 3
   },
   "file_extension": ".py",
   "mimetype": "text/x-python",
   "name": "python",
   "nbconvert_exporter": "python",
   "pygments_lexer": "ipython3",
   "version": "3.9.7"
  }
 },
 "nbformat": 4,
 "nbformat_minor": 2
}
