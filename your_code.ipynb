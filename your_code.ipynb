{
  "nbformat": 4,
  "nbformat_minor": 0,
  "metadata": {
    "kernelspec": {
      "display_name": "Python 3",
      "language": "python",
      "name": "python3"
    },
    "language_info": {
      "codemirror_mode": {
        "name": "ipython",
        "version": 3
      },
      "file_extension": ".py",
      "mimetype": "text/x-python",
      "name": "python",
      "nbconvert_exporter": "python",
      "pygments_lexer": "ipython3",
      "version": "3.6.8"
    },
    "colab": {
      "name": "your-code.ipynb",
      "provenance": [],
      "collapsed_sections": [],
      "include_colab_link": true
    }
  },
  "cells": [
    {
      "cell_type": "markdown",
      "metadata": {
        "id": "view-in-github",
        "colab_type": "text"
      },
      "source": [
        "<a href=\"https://colab.research.google.com/github/juanmanuelvillacis/lab-regression-analysis/blob/master/your_code.ipynb\" target=\"_parent\"><img src=\"https://colab.research.google.com/assets/colab-badge.svg\" alt=\"Open In Colab\"/></a>"
      ]
    },
    {
      "cell_type": "markdown",
      "metadata": {
        "id": "Th0aEVbSZU8K"
      },
      "source": [
        "# Lab: Regression Analysis"
      ]
    },
    {
      "cell_type": "code",
      "metadata": {
        "id": "x5pnGx9dbZYh"
      },
      "source": [
        "import pandas as pd\n",
        "import pylab as plt \n",
        "from scipy import stats\n",
        "from scipy.stats import linregress\n",
        "import matplotlib.pyplot as plt\n",
        "import numpy as np"
      ],
      "execution_count": null,
      "outputs": []
    },
    {
      "cell_type": "markdown",
      "metadata": {
        "id": "1D2YHa10ZU8a"
      },
      "source": [
        "### Before you start:\n",
        "\n",
        "* Read the README.md file\n",
        "* Comment as much as you can and use the resources (README.md file) \n",
        "\n",
        "Happy learning!"
      ]
    },
    {
      "cell_type": "markdown",
      "metadata": {
        "id": "av5wT2ciZU8b"
      },
      "source": [
        "## Challenge 1\n",
        "I work at a coding bootcamp, and I have developed a theory that the younger my students are, the more often they are late to class. In order to test my hypothesis, I have collected some data in the following table:\n",
        "\n",
        "| StudentID | Age | Tardies |\n",
        "|--------|-----|------------|\n",
        "| 1      | 17  | 10         |\n",
        "| 2      | 51  | 1          |\n",
        "| 3      | 27  | 5          |\n",
        "| 4      | 21  | 9         |\n",
        "| 5      | 36  |  4         |\n",
        "| 6      | 48  |  2         |\n",
        "| 7      | 19  |  9         |\n",
        "| 8      | 26  | 6          |\n",
        "| 9      | 54  |  0         |\n",
        "| 10     | 30  |  3         |"
      ]
    },
    {
      "cell_type": "markdown",
      "metadata": {
        "id": "QQXUPOq7ZU8d"
      },
      "source": [
        "Use this command to create a dataframe with the data provided in the table. \n",
        "~~~~\n",
        "student_data = pd.DataFrame({'X': [x_values], 'Y': [y_values]})\n",
        "~~~~"
      ]
    },
    {
      "cell_type": "code",
      "metadata": {
        "id": "rTUn0LHfZU8e"
      },
      "source": [
        "# Your code here. \n",
        "student_data = pd.DataFrame({'X': [17,51,27,21,36,48,19,26,54,30], 'Y': [10,1,5,9,4,2,9,6,0,3]})\n",
        "student_data"
      ],
      "execution_count": null,
      "outputs": []
    },
    {
      "cell_type": "markdown",
      "metadata": {
        "id": "8lPBfNqUZU8g"
      },
      "source": [
        "Draw a dispersion diagram (scatter plot) for the data."
      ]
    },
    {
      "cell_type": "code",
      "metadata": {
        "colab": {
          "base_uri": "https://localhost:8080/",
          "height": 265
        },
        "id": "IQOJsENRZU8h",
        "outputId": "a1bbf2ae-30eb-4654-c2e4-454db61519f6"
      },
      "source": [
        "# Your code here.\n",
        "plt.scatter(student_data['X'], student_data['Y'], marker='x');"
      ],
      "execution_count": null,
      "outputs": [
        {
          "output_type": "display_data",
          "data": {
            "image/png": "[encoded data removed]",
            "text/plain": [
              "<Figure size 432x288 with 1 Axes>"
            ]
          },
          "metadata": {
            "needs_background": "light"
          }
        }
      ]
    },
    {
      "cell_type": "markdown",
      "metadata": {
        "id": "dBU9V-dpZU8i"
      },
      "source": [
        "Do you see a trend? Can you make any hypotheses about the relationship between age and number of tardies?"
      ]
    },
    {
      "cell_type": "code",
      "metadata": {
        "id": "-uIR1BePZU8j"
      },
      "source": [
        "# Your response here. \n",
        "'''\n",
        "The hypothesis can be the younger the student the latest he arrives\n",
        "'''"
      ],
      "execution_count": null,
      "outputs": []
    },
    {
      "cell_type": "markdown",
      "metadata": {
        "id": "FH1YWIxQZU8k"
      },
      "source": [
        "Calculate the covariance and correlation of the variables in your plot. What is the difference between these two measures? Compare their values. What do they tell you in this case? Add your responses as comments after your code."
      ]
    },
    {
      "cell_type": "code",
      "metadata": {
        "colab": {
          "base_uri": "https://localhost:8080/"
        },
        "id": "mO6iEq6FZU8k",
        "outputId": "e0dd12d2-ffb8-47ef-e392-61d97701ecfe"
      },
      "source": [
        "# Your response here.\n",
        "student_data.corr(),student_data.cov()\n",
        "'''\n",
        "The correlation beween the values is high having a inverse correlation.\n",
        "'''"
      ],
      "execution_count": null,
      "outputs": [
        {
          "output_type": "execute_result",
          "data": {
            "text/plain": [
              "(          X         Y\n",
              " X  1.000000 -0.939163\n",
              " Y -0.939163  1.000000,             X          Y\n",
              " X  187.655556 -45.566667\n",
              " Y  -45.566667  12.544444)"
            ]
          },
          "metadata": {},
          "execution_count": 13
        }
      ]
    },
    {
      "cell_type": "markdown",
      "metadata": {
        "id": "o9e-9GDxZU8l"
      },
      "source": [
        "Build a regression model for this data. What will be your outcome variable? What type of regression are you using? Add your responses as comments after your code."
      ]
    },
    {
      "cell_type": "code",
      "metadata": {
        "colab": {
          "base_uri": "https://localhost:8080/"
        },
        "id": "H8_R9wz6ZU8l",
        "outputId": "6b20aa28-6526-4576-87e7-533a6015ed23"
      },
      "source": [
        "# Your response here.\n",
        "x = student_data['X']\n",
        "y = student_data['Y']\n",
        "linreg = linregress(x, y)\n",
        "linreg\n",
        "'''\n",
        "The outcome variable is the slope of the line, the x value of the intercept with the y axis, a pvalue that shows the relation between the two variables\n",
        "in this case we are using the linear regression\n",
        "'''"
      ],
      "execution_count": null,
      "outputs": [
        {
          "output_type": "execute_result",
          "data": {
            "text/plain": [
              "LinregressResult(slope=-0.2428207709159808, intercept=12.888803363135768, rvalue=-0.9391626886887121, pvalue=5.56665383455343e-05, stderr=0.03139728816158607)"
            ]
          },
          "metadata": {},
          "execution_count": 16
        }
      ]
    },
    {
      "cell_type": "markdown",
      "metadata": {
        "id": "OA0sEJu9ZU8l"
      },
      "source": [
        "Plot your regression model on your scatter plot."
      ]
    },
    {
      "cell_type": "code",
      "metadata": {
        "colab": {
          "base_uri": "https://localhost:8080/",
          "height": 606
        },
        "id": "WsS2eTGlZU8n",
        "outputId": "93ee09b9-eb12-4194-9f45-bb7aa89beb6f"
      },
      "source": [
        "# Your code here.\n",
        "\n",
        "x_ = np.linspace(x.min(), x.max(), num=50)\n",
        "\n",
        "y_ = linreg[0]*x_+linreg[1] # m*x+b\n",
        "\n",
        "plt.figure(figsize=(10, 10))\n",
        "plt.plot(x_, y_)\n",
        "plt.scatter(x, y, marker='x')\n",
        "plt.xlabel('Age')\n",
        "plt.ylabel('Time');\n"
      ],
      "execution_count": null,
      "outputs": [
        {
          "output_type": "display_data",
          "data": {
            "image/png": "[encoded data removed]",
            "text/plain": [
              "<Figure size 720x720 with 1 Axes>"
            ]
          },
          "metadata": {
            "needs_background": "light"
          }
        }
      ]
    },
    {
      "cell_type": "markdown",
      "metadata": {
        "id": "l9bUYQnsZU8n"
      },
      "source": [
        "Interpret the results of your model. What can conclusions can you draw from your model and how confident in these conclusions are you? Can we say that age is a good predictor of tardiness? Add your responses as comments after your code."
      ]
    },
    {
      "cell_type": "code",
      "metadata": {
        "id": "hV96KO2rZU8n"
      },
      "source": [
        "# Your response here. \n",
        "'''\n",
        "The conclution is that the variables have a inverse relation with a high correlation between them. \n",
        "This means that the higher the age of the student, the fewer probabilities of arriving late to class\n",
        "'''"
      ],
      "execution_count": null,
      "outputs": []
    },
    {
      "cell_type": "markdown",
      "metadata": {
        "id": "6ewQJueVZU8o"
      },
      "source": [
        "## Challenge 2\n",
        "For the second part of this lab, we will use the vehicles.csv data set. You can find a copy of the dataset in the git hub folder. This dataset includes variables related to vehicle characteristics, including the model, make, and energy efficiency standards, as well as each car's CO2 emissions. As discussed in class the goal of this exercise is to predict vehicles' CO2 emissions based on several independent variables. "
      ]
    },
    {
      "cell_type": "code",
      "metadata": {
        "id": "vky20SjgZU8q"
      },
      "source": [
        "# Import any libraries you may need & the data\n",
        "vehicles = pd.read_csv('/content/drive/MyDrive/Iron Hack/LABs/csv_docs/vehicles.csv')\n",
        "vehicles"
      ],
      "execution_count": null,
      "outputs": []
    },
    {
      "cell_type": "markdown",
      "metadata": {
        "id": "tPExi_hHZU8q"
      },
      "source": [
        "Let's use the following variables for our analysis: Year, Cylinders, Fuel Barrels/Year, Combined MPG, and Fuel Cost/Year. We will use 'CO2 Emission Grams/Mile' as our outcome variable. \n",
        "\n",
        "Calculate the correlations between each of these variables and the outcome. Which variable do you think will be the most important in determining CO2 emissions? Which provides the least amount of helpful information for determining CO2 emissions? Add your responses as comments after your code."
      ]
    },
    {
      "cell_type": "code",
      "metadata": {
        "id": "YHUTpiBysJco"
      },
      "source": [
        "vehicles.columns\n",
        "short = vehicles[['Year','Cylinders','Fuel Barrels/Year','Combined MPG','Fuel Cost/Year','CO2 Emission Grams/Mile']]\n",
        "short"
      ],
      "execution_count": null,
      "outputs": []
    },
    {
      "cell_type": "code",
      "metadata": {
        "colab": {
          "base_uri": "https://localhost:8080/",
          "height": 487
        },
        "id": "FHt9qPMYZU8r",
        "outputId": "0a5e6ff5-3831-467f-cd46-1bae5d6f90b6"
      },
      "source": [
        "# Your response here. \n",
        "plt.subplots(figsize=(15,8))\n",
        "sns.heatmap(short.corr(), annot=True);\n",
        "'''\n",
        "The variables that have correlation with the CO2 emisison are Fuel Barrels/Year, Combined MPG and Cylinders\n",
        "The lease amount of information is the Year\n",
        "'''"
      ],
      "execution_count": null,
      "outputs": [
        {
          "output_type": "display_data",
          "data": {
            "image/png": "[encoded data removed]",
            "text/plain": [
              "<Figure size 1080x576 with 2 Axes>"
            ]
          },
          "metadata": {
            "needs_background": "light"
          }
        }
      ]
    },
    {
      "cell_type": "markdown",
      "metadata": {
        "id": "dgj7He4xZU8r"
      },
      "source": [
        "Build a regression model for this data. What type of regression are you using? Add your responses as comments after your code."
      ]
    },
    {
      "cell_type": "code",
      "metadata": {
        "id": "_9ka6V40udb4"
      },
      "source": [
        "import statsmodels.api as sm\n",
        "import seaborn as sn"
      ],
      "execution_count": null,
      "outputs": []
    },
    {
      "cell_type": "code",
      "metadata": {
        "id": "b2w2cS70ZU8s"
      },
      "source": [
        "# Your response here. \n",
        "x = sm.add_constant(short[[\n",
        "          'Fuel Barrels/Year',\n",
        "          'Cylinders',\n",
        "          'Combined MPG',\n",
        "          'Fuel Cost/Year',\n",
        "          'Year'\n",
        "    ]])\n",
        "\n",
        "y = short['CO2 Emission Grams/Mile']"
      ],
      "execution_count": null,
      "outputs": []
    },
    {
      "cell_type": "code",
      "metadata": {
        "colab": {
          "base_uri": "https://localhost:8080/"
        },
        "id": "xym37tB_uYCy",
        "outputId": "28a0f42b-ca47-4e58-af5b-b8f9856ce3bc"
      },
      "source": [
        "modelo = sm.OLS(y, x).fit()\n",
        "print(modelo.summary())"
      ],
      "execution_count": null,
      "outputs": [
        {
          "output_type": "stream",
          "name": "stdout",
          "text": [
            "                               OLS Regression Results                              \n",
            "===================================================================================\n",
            "Dep. Variable:     CO2 Emission Grams/Mile   R-squared:                       0.981\n",
            "Model:                                 OLS   Adj. R-squared:                  0.981\n",
            "Method:                      Least Squares   F-statistic:                 3.687e+05\n",
            "Date:                     Thu, 30 Sep 2021   Prob (F-statistic):               0.00\n",
            "Time:                             19:29:06   Log-Likelihood:            -1.5173e+05\n",
            "No. Observations:                    35952   AIC:                         3.035e+05\n",
            "Df Residuals:                        35946   BIC:                         3.035e+05\n",
            "Df Model:                                5                                         \n",
            "Covariance Type:                 nonrobust                                         \n",
            "=====================================================================================\n",
            "                        coef    std err          t      P>|t|      [0.025      0.975]\n",
            "-------------------------------------------------------------------------------------\n",
            "const               769.8883     19.392     39.702      0.000     731.880     807.897\n",
            "Fuel Barrels/Year    19.0529      0.061    311.600      0.000      18.933      19.173\n",
            "Cylinders             1.8788      0.083     22.598      0.000       1.716       2.042\n",
            "Combined MPG         -3.0404      0.042    -71.645      0.000      -3.124      -2.957\n",
            "Fuel Cost/Year        0.0323      0.000     67.025      0.000       0.031       0.033\n",
            "Year                 -0.3206      0.010    -33.060      0.000      -0.340      -0.302\n",
            "==============================================================================\n",
            "Omnibus:                    71055.645   Durbin-Watson:                   0.747\n",
            "Prob(Omnibus):                  0.000   Jarque-Bera (JB):        246941260.782\n",
            "Skew:                          15.902   Prob(JB):                         0.00\n",
            "Kurtosis:                     407.766   Cond. No.                     6.20e+05\n",
            "==============================================================================\n",
            "\n",
            "Warnings:\n",
            "[1] Standard Errors assume that the covariance matrix of the errors is correctly specified.\n",
            "[2] The condition number is large, 6.2e+05. This might indicate that there are\n",
            "strong multicollinearity or other numerical problems.\n"
          ]
        }
      ]
    },
    {
      "cell_type": "markdown",
      "metadata": {
        "id": "KpRGhshkZU8s"
      },
      "source": [
        "Print your regression summary, and interpret the results. What are the most important varibles in your model and why? What can conclusions can you draw from your model and how confident in these conclusions are you? Add your responses as comments after your code."
      ]
    },
    {
      "cell_type": "code",
      "metadata": {
        "id": "rbyBXiQlZU8s"
      },
      "source": [
        "# Your response here. "
      ],
      "execution_count": null,
      "outputs": []
    },
    {
      "cell_type": "markdown",
      "metadata": {
        "id": "xQ0dPHtnZU8t"
      },
      "source": [
        "## Bonus Challenge: Error Analysis"
      ]
    },
    {
      "cell_type": "markdown",
      "metadata": {
        "id": "L5v7axzXZU8t"
      },
      "source": [
        "I am suspicious about the last few parties I have thrown: it seems that the more people I invite the more people are unable to attend. To know if my hunch is supported by data, I have decided to do an analysis. I have collected my data in the table below, where X is the number of people I invited, and Y is the number of people who attended. \n",
        "\n",
        "|  X |  Y |\n",
        "|----|----|\n",
        "| 1  |  1 |\n",
        "| 3  |  2 |\n",
        "| 4  |  4 |\n",
        "| 6  |  4 |\n",
        "| 8  |  5 |\n",
        "| 9  |  7 |\n",
        "| 11 |  8 |\n",
        "| 14 |  13 |"
      ]
    },
    {
      "cell_type": "markdown",
      "metadata": {
        "id": "n-nUyMRLZU8t"
      },
      "source": [
        "We want to know if the relationship modeled by the two random variables is linear or not, and therefore if it is appropriate to model it with a linear regression. \n",
        "First, build a dataframe with the data. "
      ]
    },
    {
      "cell_type": "code",
      "metadata": {
        "colab": {
          "base_uri": "https://localhost:8080/",
          "height": 300
        },
        "id": "GqMSNGrHZU8t",
        "outputId": "992f852a-0a6b-4163-efb2-7c4c6444ae20"
      },
      "source": [
        "# Your code here. \n",
        "party = pd.DataFrame({'X':[1,3,4,6,8,9,11,14],'Y':[1,2,4,4,5,7,8,13]})\n",
        "party"
      ],
      "execution_count": null,
      "outputs": [
        {
          "output_type": "execute_result",
          "data": {
            "text/html": [
              "<div>\n",
              "<style scoped>\n",
              "    .dataframe tbody tr th:only-of-type {\n",
              "        vertical-align: middle;\n",
              "    }\n",
              "\n",
              "    .dataframe tbody tr th {\n",
              "        vertical-align: top;\n",
              "    }\n",
              "\n",
              "    .dataframe thead th {\n",
              "        text-align: right;\n",
              "    }\n",
              "</style>\n",
              "<table border=\"1\" class=\"dataframe\">\n",
              "  <thead>\n",
              "    <tr style=\"text-align: right;\">\n",
              "      <th></th>\n",
              "      <th>X</th>\n",
              "      <th>Y</th>\n",
              "    </tr>\n",
              "  </thead>\n",
              "  <tbody>\n",
              "    <tr>\n",
              "      <th>0</th>\n",
              "      <td>1</td>\n",
              "      <td>1</td>\n",
              "    </tr>\n",
              "    <tr>\n",
              "      <th>1</th>\n",
              "      <td>3</td>\n",
              "      <td>2</td>\n",
              "    </tr>\n",
              "    <tr>\n",
              "      <th>2</th>\n",
              "      <td>4</td>\n",
              "      <td>4</td>\n",
              "    </tr>\n",
              "    <tr>\n",
              "      <th>3</th>\n",
              "      <td>6</td>\n",
              "      <td>4</td>\n",
              "    </tr>\n",
              "    <tr>\n",
              "      <th>4</th>\n",
              "      <td>8</td>\n",
              "      <td>5</td>\n",
              "    </tr>\n",
              "    <tr>\n",
              "      <th>5</th>\n",
              "      <td>9</td>\n",
              "      <td>7</td>\n",
              "    </tr>\n",
              "    <tr>\n",
              "      <th>6</th>\n",
              "      <td>11</td>\n",
              "      <td>8</td>\n",
              "    </tr>\n",
              "    <tr>\n",
              "      <th>7</th>\n",
              "      <td>14</td>\n",
              "      <td>13</td>\n",
              "    </tr>\n",
              "  </tbody>\n",
              "</table>\n",
              "</div>"
            ],
            "text/plain": [
              "    X   Y\n",
              "0   1   1\n",
              "1   3   2\n",
              "2   4   4\n",
              "3   6   4\n",
              "4   8   5\n",
              "5   9   7\n",
              "6  11   8\n",
              "7  14  13"
            ]
          },
          "metadata": {},
          "execution_count": 41
        }
      ]
    },
    {
      "cell_type": "markdown",
      "metadata": {
        "id": "htKxzT_qZU8t"
      },
      "source": [
        "Draw a dispersion diagram (scatter plot) for the data, and fit a regression line."
      ]
    },
    {
      "cell_type": "code",
      "metadata": {
        "colab": {
          "base_uri": "https://localhost:8080/"
        },
        "id": "jKygphX2v5qn",
        "outputId": "fa4aedd5-3ba3-4c71-d9e6-10bc181defb7"
      },
      "source": [
        "y = party['Y']\n",
        "\n",
        "x = party['X']\n",
        "\n",
        "linreg = linregress(x, y)\n",
        "linreg"
      ],
      "execution_count": null,
      "outputs": [
        {
          "output_type": "execute_result",
          "data": {
            "text/plain": [
              "LinregressResult(slope=0.8484848484848485, intercept=-0.43939393939393945, rvalue=0.9652303546573691, pvalue=0.00010236374464090686, stderr=0.09380896778286217)"
            ]
          },
          "metadata": {},
          "execution_count": 46
        }
      ]
    },
    {
      "cell_type": "code",
      "metadata": {
        "colab": {
          "base_uri": "https://localhost:8080/",
          "height": 265
        },
        "id": "YjsFifbsZU8u",
        "outputId": "734c61f2-a2c3-4f13-a2e0-493e4d039d75"
      },
      "source": [
        "# Your code here.\n",
        "x_ = np.linspace(x.min(), x.max(), num=50)\n",
        "\n",
        "y_ = linreg[0]*x_+linreg[1] # m*x+b\n",
        "plt.plot(x_, y_)\n",
        "plt.scatter(party['X'],party['Y']);"
      ],
      "execution_count": null,
      "outputs": [
        {
          "output_type": "display_data",
          "data": {
            "image/png": "[encoded data removed]",
            "text/plain": [
              "<Figure size 432x288 with 1 Axes>"
            ]
          },
          "metadata": {
            "needs_background": "light"
          }
        }
      ]
    },
    {
      "cell_type": "markdown",
      "metadata": {
        "id": "2VHeO6iUZU8u"
      },
      "source": [
        "What do you see? What does this plot tell you about the likely relationship between the variables? Print the results from your regression."
      ]
    },
    {
      "cell_type": "code",
      "metadata": {
        "id": "4ezPjePaZU8u"
      },
      "source": [
        "# Your response here. \n",
        "'''\n",
        "The linaer regretioon tell us that the variables have a positive reltaion with high correlation\n",
        "'''"
      ],
      "execution_count": null,
      "outputs": []
    },
    {
      "cell_type": "markdown",
      "metadata": {
        "id": "35pJVq5KZU8u"
      },
      "source": [
        "Do you see any problematic points, or outliers, in your data? Remove these points and recalculate your regression. Print the new dispersion diagram with your new model and the results of your model. "
      ]
    },
    {
      "cell_type": "code",
      "metadata": {
        "colab": {
          "base_uri": "https://localhost:8080/",
          "height": 269
        },
        "id": "CgbR2wU_ZU8u",
        "outputId": "3cd24f77-cec6-475d-99e9-b1f14963acf8"
      },
      "source": [
        "# Your response here. \n",
        "#plt.boxplot(party['Y'])\n",
        "sns.boxplot(data=party,y='Y');\n",
        "#plt.boxplot(x=party['X'],y);"
      ],
      "execution_count": null,
      "outputs": [
        {
          "output_type": "execute_result",
          "data": {
            "text/plain": [
              "<matplotlib.axes._subplots.AxesSubplot at 0x7f7cfe1d3d10>"
            ]
          },
          "metadata": {},
          "execution_count": 67
        },
        {
          "output_type": "display_data",
          "data": {
            "image/png": "[encoded data removed]",
            "text/plain": [
              "<Figure size 432x288 with 1 Axes>"
            ]
          },
          "metadata": {
            "needs_background": "light"
          }
        }
      ]
    },
    {
      "cell_type": "code",
      "metadata": {
        "colab": {
          "base_uri": "https://localhost:8080/",
          "height": 269
        },
        "id": "hruYnxuJMY5j",
        "outputId": "7d60286d-5c6c-4dab-935c-00a03e2ecca7"
      },
      "source": [
        "party.drop(labels=7,axis=0,inplace=True)\n",
        "party"
      ],
      "execution_count": null,
      "outputs": [
        {
          "output_type": "execute_result",
          "data": {
            "text/html": [
              "<div>\n",
              "<style scoped>\n",
              "    .dataframe tbody tr th:only-of-type {\n",
              "        vertical-align: middle;\n",
              "    }\n",
              "\n",
              "    .dataframe tbody tr th {\n",
              "        vertical-align: top;\n",
              "    }\n",
              "\n",
              "    .dataframe thead th {\n",
              "        text-align: right;\n",
              "    }\n",
              "</style>\n",
              "<table border=\"1\" class=\"dataframe\">\n",
              "  <thead>\n",
              "    <tr style=\"text-align: right;\">\n",
              "      <th></th>\n",
              "      <th>X</th>\n",
              "      <th>Y</th>\n",
              "    </tr>\n",
              "  </thead>\n",
              "  <tbody>\n",
              "    <tr>\n",
              "      <th>0</th>\n",
              "      <td>1</td>\n",
              "      <td>1</td>\n",
              "    </tr>\n",
              "    <tr>\n",
              "      <th>1</th>\n",
              "      <td>3</td>\n",
              "      <td>2</td>\n",
              "    </tr>\n",
              "    <tr>\n",
              "      <th>2</th>\n",
              "      <td>4</td>\n",
              "      <td>4</td>\n",
              "    </tr>\n",
              "    <tr>\n",
              "      <th>3</th>\n",
              "      <td>6</td>\n",
              "      <td>4</td>\n",
              "    </tr>\n",
              "    <tr>\n",
              "      <th>4</th>\n",
              "      <td>8</td>\n",
              "      <td>5</td>\n",
              "    </tr>\n",
              "    <tr>\n",
              "      <th>5</th>\n",
              "      <td>9</td>\n",
              "      <td>7</td>\n",
              "    </tr>\n",
              "    <tr>\n",
              "      <th>6</th>\n",
              "      <td>11</td>\n",
              "      <td>8</td>\n",
              "    </tr>\n",
              "  </tbody>\n",
              "</table>\n",
              "</div>"
            ],
            "text/plain": [
              "    X  Y\n",
              "0   1  1\n",
              "1   3  2\n",
              "2   4  4\n",
              "3   6  4\n",
              "4   8  5\n",
              "5   9  7\n",
              "6  11  8"
            ]
          },
          "metadata": {},
          "execution_count": 68
        }
      ]
    },
    {
      "cell_type": "code",
      "metadata": {
        "colab": {
          "base_uri": "https://localhost:8080/",
          "height": 265
        },
        "id": "2jh63fa6MoLE",
        "outputId": "5d8a0ee0-6280-4927-cd8e-a734bfaf7152"
      },
      "source": [
        "y = party['Y']\n",
        "\n",
        "x = party['X']\n",
        "\n",
        "linreg = linregress(x, y)\n",
        "\n",
        "# Your code here.\n",
        "x_ = np.linspace(x.min(), x.max(), num=50)\n",
        "\n",
        "y_ = linreg[0]*x_+linreg[1] # m*x+b\n",
        "plt.plot(x_, y_)\n",
        "plt.scatter(party['X'],party['Y']);"
      ],
      "execution_count": null,
      "outputs": [
        {
          "output_type": "display_data",
          "data": {
            "image/png": "[encoded data removed]",
            "text/plain": [
              "<Figure size 432x288 with 1 Axes>"
            ]
          },
          "metadata": {
            "needs_background": "light"
          }
        }
      ]
    },
    {
      "cell_type": "code",
      "metadata": {
        "colab": {
          "base_uri": "https://localhost:8080/"
        },
        "id": "7ZqYVdU7MtQH",
        "outputId": "274ba674-888f-417e-d724-9baeb3acce66"
      },
      "source": [
        "linreg\n"
      ],
      "execution_count": null,
      "outputs": [
        {
          "output_type": "execute_result",
          "data": {
            "text/plain": [
              "LinregressResult(slope=0.6842105263157895, intercept=0.32330827067669166, rvalue=0.971278116825086, pvalue=0.0002644056885656864, stderr=0.07496206665031292)"
            ]
          },
          "metadata": {},
          "execution_count": 70
        }
      ]
    },
    {
      "cell_type": "markdown",
      "metadata": {
        "id": "DfBjUeMsZU8u"
      },
      "source": [
        "What changed? Based on the results of the two models and your graphs, what can you say about the form of the data with the problematic point and without it?"
      ]
    },
    {
      "cell_type": "code",
      "metadata": {
        "id": "kaQi3mzJZU8v"
      },
      "source": [
        "# Your response here. \n",
        "LinregressResult(slope=0.8484848484848485, intercept=-0.43939393939393945, rvalue=0.9652303546573691, pvalue=0.00010236374464090686, stderr=0.09380896778286217)\n",
        "'''\n",
        "The slope have a more positive value, the intercept changed it position and the p value has a value closer to 0\n",
        "'''"
      ],
      "execution_count": null,
      "outputs": []
    }
  ]
}